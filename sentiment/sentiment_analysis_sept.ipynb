{
 "cells": [
  {
   "cell_type": "code",
   "execution_count": 2,
   "metadata": {},
   "outputs": [
    {
     "data": {
      "text/plain": [
       "'Sentiment of the tweets from October regarding the 2020 elections'"
      ]
     },
     "execution_count": 2,
     "metadata": {},
     "output_type": "execute_result"
    }
   ],
   "source": [
    "'''Sentiment of the tweets from September regarding the 2020 elections'''"
   ]
  },
  {
   "cell_type": "code",
   "execution_count": 1,
   "metadata": {},
   "outputs": [],
   "source": [
    "import sys\n",
    "import os\n",
    "from textblob import TextBlob\n",
    "import pandas as pd\n",
    "import numpy as np\n",
    "import matplotlib.pyplot as plt\n",
    "import re\n",
    "import nltk\n",
    "import glob\n",
    "import json\n"
   ]
  },
  {
   "cell_type": "code",
   "execution_count": 2,
   "metadata": {},
   "outputs": [],
   "source": [
    "path = r'C:\\Users\\m216126\\Documents\\capstoneStuff\\twitterCapture\\captures\\september'      # use your path\n",
    "all_files = glob.glob(os.path.join(path, \"*.csv\"))     # advisable to use os.path.join as this makes concatenation OS independent\n",
    "li = []\n",
    "for file in all_files:\n",
    "    df = pd.read_csv(file, index_col = None, header=0)\n",
    "    li.append(df)"
   ]
  },
  {
   "cell_type": "code",
   "execution_count": 3,
   "metadata": {},
   "outputs": [],
   "source": [
    "# Naming the columns\n",
    "\n",
    "for i in range(len(li)):\n",
    "    li[i].columns = ['Date','id','tweet','tweet_info','metadata']"
   ]
  },
  {
   "cell_type": "code",
   "execution_count": 4,
   "metadata": {},
   "outputs": [],
   "source": [
    "## Concatenate all the files into a single dataset\n",
    "\n",
    "frames = []\n",
    "\n",
    "for i in range(len(li)):\n",
    "    frames.append(li[i])\n",
    "tweet_dataset = pd.concat(frames, ignore_index=True)"
   ]
  },
  {
   "cell_type": "code",
   "execution_count": 5,
   "metadata": {},
   "outputs": [
    {
     "data": {
      "text/plain": [
       "(468447, 5)"
      ]
     },
     "execution_count": 5,
     "metadata": {},
     "output_type": "execute_result"
    }
   ],
   "source": [
    "tweet_dataset.shape "
   ]
  },
  {
   "cell_type": "code",
   "execution_count": 6,
   "metadata": {},
   "outputs": [
    {
     "data": {
      "text/html": [
       "<div>\n",
       "<style scoped>\n",
       "    .dataframe tbody tr th:only-of-type {\n",
       "        vertical-align: middle;\n",
       "    }\n",
       "\n",
       "    .dataframe tbody tr th {\n",
       "        vertical-align: top;\n",
       "    }\n",
       "\n",
       "    .dataframe thead th {\n",
       "        text-align: right;\n",
       "    }\n",
       "</style>\n",
       "<table border=\"1\" class=\"dataframe\">\n",
       "  <thead>\n",
       "    <tr style=\"text-align: right;\">\n",
       "      <th></th>\n",
       "      <th>Date</th>\n",
       "      <th>id</th>\n",
       "      <th>tweet</th>\n",
       "      <th>tweet_info</th>\n",
       "      <th>metadata</th>\n",
       "    </tr>\n",
       "  </thead>\n",
       "  <tbody>\n",
       "    <tr>\n",
       "      <th>468247</th>\n",
       "      <td>2020-09-10 00:59:38</td>\n",
       "      <td>1303860651820044290</td>\n",
       "      <td>b'RT @AngusRockford: @nakashimae @juliettekayy...</td>\n",
       "      <td>User(_api=&lt;tweepy.api.API object at 0x110ed0bd...</td>\n",
       "      <td>{'hashtags': [], 'symbols': [], 'user_mentions...</td>\n",
       "    </tr>\n",
       "    <tr>\n",
       "      <th>468248</th>\n",
       "      <td>2020-09-10 00:59:38</td>\n",
       "      <td>1303860651807383552</td>\n",
       "      <td>b'RT @realDonaldTrump: Fake News asks why I br...</td>\n",
       "      <td>User(_api=&lt;tweepy.api.API object at 0x110ed0bd...</td>\n",
       "      <td>{'hashtags': [], 'symbols': [], 'user_mentions...</td>\n",
       "    </tr>\n",
       "    <tr>\n",
       "      <th>468249</th>\n",
       "      <td>2020-09-10 00:59:38</td>\n",
       "      <td>1303860651752738822</td>\n",
       "      <td>b'RT @mariaressa: Trump admits to playing down...</td>\n",
       "      <td>User(_api=&lt;tweepy.api.API object at 0x110ed0bd...</td>\n",
       "      <td>{'hashtags': [], 'symbols': [], 'user_mentions...</td>\n",
       "    </tr>\n",
       "    <tr>\n",
       "      <th>468250</th>\n",
       "      <td>2020-09-10 00:59:38</td>\n",
       "      <td>1303860651740270594</td>\n",
       "      <td>b\"RT @PellinoreWendy: Schiff told Senate Trump...</td>\n",
       "      <td>User(_api=&lt;tweepy.api.API object at 0x110ed0bd...</td>\n",
       "      <td>{'hashtags': [], 'symbols': [], 'user_mentions...</td>\n",
       "    </tr>\n",
       "    <tr>\n",
       "      <th>468251</th>\n",
       "      <td>2020-09-10 00:59:38</td>\n",
       "      <td>1303860651723558913</td>\n",
       "      <td>b'RT @cajun4trump: TRUMP BANNED TRAVEL TO AND ...</td>\n",
       "      <td>User(_api=&lt;tweepy.api.API object at 0x110ed0bd...</td>\n",
       "      <td>{'hashtags': [], 'symbols': [], 'user_mentions...</td>\n",
       "    </tr>\n",
       "    <tr>\n",
       "      <th>...</th>\n",
       "      <td>...</td>\n",
       "      <td>...</td>\n",
       "      <td>...</td>\n",
       "      <td>...</td>\n",
       "      <td>...</td>\n",
       "    </tr>\n",
       "    <tr>\n",
       "      <th>468442</th>\n",
       "      <td>2020-09-10 00:59:36</td>\n",
       "      <td>1303860643523567617</td>\n",
       "      <td>b\"RT @JRinPueblo: Kamala Harris Calls For \\xe2...</td>\n",
       "      <td>User(_api=&lt;tweepy.api.API object at 0x110ed0bd...</td>\n",
       "      <td>{'hashtags': [], 'symbols': [], 'user_mentions...</td>\n",
       "    </tr>\n",
       "    <tr>\n",
       "      <th>468443</th>\n",
       "      <td>2020-09-10 00:59:36</td>\n",
       "      <td>1303860643469160448</td>\n",
       "      <td>b'RT @glennkirschner2: In January, Trump knew ...</td>\n",
       "      <td>User(_api=&lt;tweepy.api.API object at 0x110ed0bd...</td>\n",
       "      <td>{'hashtags': [], 'symbols': [], 'user_mentions...</td>\n",
       "    </tr>\n",
       "    <tr>\n",
       "      <th>468444</th>\n",
       "      <td>2020-09-10 00:59:36</td>\n",
       "      <td>1303860643427123205</td>\n",
       "      <td>b'@KamalaHarris @JoeBiden Trump is scared of y...</td>\n",
       "      <td>User(_api=&lt;tweepy.api.API object at 0x110ed0bd...</td>\n",
       "      <td>{'hashtags': [], 'symbols': [], 'user_mentions...</td>\n",
       "    </tr>\n",
       "    <tr>\n",
       "      <th>468445</th>\n",
       "      <td>2020-09-10 00:59:36</td>\n",
       "      <td>1303860643364253698</td>\n",
       "      <td>b'RT @karentravers: NEW: just asked @JoeBiden ...</td>\n",
       "      <td>User(_api=&lt;tweepy.api.API object at 0x110ed0bd...</td>\n",
       "      <td>{'hashtags': [], 'symbols': [], 'user_mentions...</td>\n",
       "    </tr>\n",
       "    <tr>\n",
       "      <th>468446</th>\n",
       "      <td>2020-09-10 00:59:36</td>\n",
       "      <td>1303860643334942722</td>\n",
       "      <td>b'RT @KamalaHarris: Trump knew in February. \\n...</td>\n",
       "      <td>User(_api=&lt;tweepy.api.API object at 0x110ed0bd...</td>\n",
       "      <td>{'hashtags': [], 'symbols': [], 'user_mentions...</td>\n",
       "    </tr>\n",
       "  </tbody>\n",
       "</table>\n",
       "<p>200 rows × 5 columns</p>\n",
       "</div>"
      ],
      "text/plain": [
       "                       Date                   id  \\\n",
       "468247  2020-09-10 00:59:38  1303860651820044290   \n",
       "468248  2020-09-10 00:59:38  1303860651807383552   \n",
       "468249  2020-09-10 00:59:38  1303860651752738822   \n",
       "468250  2020-09-10 00:59:38  1303860651740270594   \n",
       "468251  2020-09-10 00:59:38  1303860651723558913   \n",
       "...                     ...                  ...   \n",
       "468442  2020-09-10 00:59:36  1303860643523567617   \n",
       "468443  2020-09-10 00:59:36  1303860643469160448   \n",
       "468444  2020-09-10 00:59:36  1303860643427123205   \n",
       "468445  2020-09-10 00:59:36  1303860643364253698   \n",
       "468446  2020-09-10 00:59:36  1303860643334942722   \n",
       "\n",
       "                                                    tweet  \\\n",
       "468247  b'RT @AngusRockford: @nakashimae @juliettekayy...   \n",
       "468248  b'RT @realDonaldTrump: Fake News asks why I br...   \n",
       "468249  b'RT @mariaressa: Trump admits to playing down...   \n",
       "468250  b\"RT @PellinoreWendy: Schiff told Senate Trump...   \n",
       "468251  b'RT @cajun4trump: TRUMP BANNED TRAVEL TO AND ...   \n",
       "...                                                   ...   \n",
       "468442  b\"RT @JRinPueblo: Kamala Harris Calls For \\xe2...   \n",
       "468443  b'RT @glennkirschner2: In January, Trump knew ...   \n",
       "468444  b'@KamalaHarris @JoeBiden Trump is scared of y...   \n",
       "468445  b'RT @karentravers: NEW: just asked @JoeBiden ...   \n",
       "468446  b'RT @KamalaHarris: Trump knew in February. \\n...   \n",
       "\n",
       "                                               tweet_info  \\\n",
       "468247  User(_api=<tweepy.api.API object at 0x110ed0bd...   \n",
       "468248  User(_api=<tweepy.api.API object at 0x110ed0bd...   \n",
       "468249  User(_api=<tweepy.api.API object at 0x110ed0bd...   \n",
       "468250  User(_api=<tweepy.api.API object at 0x110ed0bd...   \n",
       "468251  User(_api=<tweepy.api.API object at 0x110ed0bd...   \n",
       "...                                                   ...   \n",
       "468442  User(_api=<tweepy.api.API object at 0x110ed0bd...   \n",
       "468443  User(_api=<tweepy.api.API object at 0x110ed0bd...   \n",
       "468444  User(_api=<tweepy.api.API object at 0x110ed0bd...   \n",
       "468445  User(_api=<tweepy.api.API object at 0x110ed0bd...   \n",
       "468446  User(_api=<tweepy.api.API object at 0x110ed0bd...   \n",
       "\n",
       "                                                 metadata  \n",
       "468247  {'hashtags': [], 'symbols': [], 'user_mentions...  \n",
       "468248  {'hashtags': [], 'symbols': [], 'user_mentions...  \n",
       "468249  {'hashtags': [], 'symbols': [], 'user_mentions...  \n",
       "468250  {'hashtags': [], 'symbols': [], 'user_mentions...  \n",
       "468251  {'hashtags': [], 'symbols': [], 'user_mentions...  \n",
       "...                                                   ...  \n",
       "468442  {'hashtags': [], 'symbols': [], 'user_mentions...  \n",
       "468443  {'hashtags': [], 'symbols': [], 'user_mentions...  \n",
       "468444  {'hashtags': [], 'symbols': [], 'user_mentions...  \n",
       "468445  {'hashtags': [], 'symbols': [], 'user_mentions...  \n",
       "468446  {'hashtags': [], 'symbols': [], 'user_mentions...  \n",
       "\n",
       "[200 rows x 5 columns]"
      ]
     },
     "execution_count": 6,
     "metadata": {},
     "output_type": "execute_result"
    }
   ],
   "source": [
    "tweet_dataset.tail(200)"
   ]
  },
  {
   "cell_type": "code",
   "execution_count": 7,
   "metadata": {},
   "outputs": [],
   "source": [
    "# Cleaning Up the tweets\n",
    "\n",
    "searched_tweets = []\n",
    "\n",
    "for i in range(0,int(tweet_dataset.shape[0])):\n",
    "    try:\n",
    "        if tweet_dataset['tweet'][i] != None: \n",
    "            tweet = re.sub('[^a-zA-Z0-9]', ' ', str(tweet_dataset['tweet'][i]))\n",
    "            tweet = re.sub(\"b'\", '', tweet)\n",
    "            tweet = re.sub('https', '', tweet)\n",
    "            tweet = tweet.split()\n",
    "            for j in range(len(tweet)):\n",
    "                if len(tweet[j]) <= 3:\n",
    "                    tweet[j] = ''\n",
    "                elif (len(tweet[j]) == 4) and (tweet[j][0]=='x'):\n",
    "                    tweet[j] = ''\n",
    "                elif (len(tweet[j]) == 5) and (tweet[j][0]=='x'):\n",
    "                    tweet[j] = ''\n",
    "            tweet = ' '.join(tweet)\n",
    "            searched_tweets.append(tweet)\n",
    "    except:\n",
    "        continue"
   ]
  },
  {
   "cell_type": "code",
   "execution_count": 8,
   "metadata": {},
   "outputs": [
    {
     "name": "stdout",
     "output_type": "stream",
     "text": [
      "468447\n"
     ]
    }
   ],
   "source": [
    "print(len(searched_tweets))"
   ]
  },
  {
   "cell_type": "code",
   "execution_count": 9,
   "metadata": {},
   "outputs": [
    {
     "name": "stdout",
     "output_type": "stream",
     "text": [
      "Total Positive =  142856\n",
      "Total Negative =  102300\n",
      "Total Neutral =  223291\n"
     ]
    }
   ],
   "source": [
    "#Sentiment Analysis Report of all the tweets from november with hashtags related to the elections\n",
    "\n",
    "#Finding sentiment analysis (+ve, -ve and neutral)\n",
    "pos = 0\n",
    "neg = 0\n",
    "neu = 0\n",
    "for tweet in searched_tweets:\n",
    "    try:\n",
    "        analysis = TextBlob(tweet)\n",
    "        if analysis.sentiment[0]>0:\n",
    "           pos = pos +1\n",
    "        elif analysis.sentiment[0]<0:\n",
    "           neg = neg + 1\n",
    "        else:\n",
    "           neu = neu + 1\n",
    "    except:\n",
    "        continue\n",
    "print(\"Total Positive = \", pos)\n",
    "print(\"Total Negative = \", neg)\n",
    "print(\"Total Neutral = \", neu)"
   ]
  },
  {
   "cell_type": "code",
   "execution_count": 10,
   "metadata": {},
   "outputs": [
    {
     "data": {
      "image/png": "[encoded data removed]",
      "text/plain": [
       "<Figure size 432x288 with 1 Axes>"
      ]
     },
     "metadata": {},
     "output_type": "display_data"
    }
   ],
   "source": [
    "#Plotting sentiments\n",
    "labels = 'Positive', 'Negative', 'Neutral'\n",
    "sizes = [pos, neg, neu]\n",
    "colors = ['gold', 'yellowgreen', 'lightcoral']\n",
    "explode = (0.1, 0.1, 0)  # explode 1st slice\n",
    "plt.pie(sizes, explode=explode, labels=labels, colors=colors, autopct='%1.1f%%', shadow=True, startangle=140)\n",
    "plt.axis('equal')\n",
    "plt.show()"
   ]
  },
  {
   "cell_type": "code",
   "execution_count": null,
   "metadata": {},
   "outputs": [],
   "source": []
  }
 ],
 "metadata": {
  "kernelspec": {
   "display_name": "Python 3",
   "language": "python",
   "name": "python3"
  },
  "language_info": {
   "codemirror_mode": {
    "name": "ipython",
    "version": 3
   },
   "file_extension": ".py",
   "mimetype": "text/x-python",
   "name": "python",
   "nbconvert_exporter": "python",
   "pygments_lexer": "ipython3",
   "version": "3.8.5"
  }
 },
 "nbformat": 4,
 "nbformat_minor": 4
}
