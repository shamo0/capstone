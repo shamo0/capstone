{
 "cells": [
  {
   "cell_type": "code",
   "execution_count": 2,
   "metadata": {},
   "outputs": [
    {
     "data": {
      "text/plain": [
       "'Sentiment of the tweets from October regarding the 2020 elections'"
      ]
     },
     "execution_count": 2,
     "metadata": {},
     "output_type": "execute_result"
    }
   ],
   "source": [
    "'''Sentiment of the tweets from October regarding the 2020 elections'''"
   ]
  },
  {
   "cell_type": "code",
   "execution_count": 1,
   "metadata": {},
   "outputs": [],
   "source": [
    "import sys\n",
    "import os\n",
    "from textblob import TextBlob\n",
    "import pandas as pd\n",
    "import numpy as np\n",
    "import matplotlib.pyplot as plt\n",
    "import re\n",
    "import nltk\n",
    "import glob\n",
    "import json\n"
   ]
  },
  {
   "cell_type": "code",
   "execution_count": 3,
   "metadata": {},
   "outputs": [],
   "source": [
    "path = r'C:\\Users\\m216126\\Documents\\capstoneStuff\\twitterCapture\\captures\\october'      # use your path\n",
    "all_files = glob.glob(os.path.join(path, \"*.csv\"))     # advisable to use os.path.join as this makes concatenation OS independent\n",
    "li = []\n",
    "for file in all_files:\n",
    "    df = pd.read_csv(file, index_col = None, header=0)\n",
    "    li.append(df)"
   ]
  },
  {
   "cell_type": "code",
   "execution_count": 4,
   "metadata": {},
   "outputs": [],
   "source": [
    "# Naming the columns\n",
    "\n",
    "for i in range(len(li)):\n",
    "    li[i].columns = ['Date','id','tweet','tweet_info','metadata']"
   ]
  },
  {
   "cell_type": "code",
   "execution_count": 5,
   "metadata": {},
   "outputs": [],
   "source": [
    "## Concatenate all the files into a single dataset\n",
    "\n",
    "frames = []\n",
    "\n",
    "for i in range(len(li)):\n",
    "    frames.append(li[i])\n",
    "tweet_dataset = pd.concat(frames, ignore_index=True)"
   ]
  },
  {
   "cell_type": "code",
   "execution_count": 6,
   "metadata": {},
   "outputs": [
    {
     "data": {
      "text/plain": [
       "(458048, 5)"
      ]
     },
     "execution_count": 6,
     "metadata": {},
     "output_type": "execute_result"
    }
   ],
   "source": [
    "tweet_dataset.shape "
   ]
  },
  {
   "cell_type": "code",
   "execution_count": 7,
   "metadata": {},
   "outputs": [
    {
     "data": {
      "text/html": [
       "<div>\n",
       "<style scoped>\n",
       "    .dataframe tbody tr th:only-of-type {\n",
       "        vertical-align: middle;\n",
       "    }\n",
       "\n",
       "    .dataframe tbody tr th {\n",
       "        vertical-align: top;\n",
       "    }\n",
       "\n",
       "    .dataframe thead th {\n",
       "        text-align: right;\n",
       "    }\n",
       "</style>\n",
       "<table border=\"1\" class=\"dataframe\">\n",
       "  <thead>\n",
       "    <tr style=\"text-align: right;\">\n",
       "      <th></th>\n",
       "      <th>Date</th>\n",
       "      <th>id</th>\n",
       "      <th>tweet</th>\n",
       "      <th>tweet_info</th>\n",
       "      <th>metadata</th>\n",
       "    </tr>\n",
       "  </thead>\n",
       "  <tbody>\n",
       "    <tr>\n",
       "      <th>457848</th>\n",
       "      <td>2020-10-09 19:59:40</td>\n",
       "      <td>1314656796934639624</td>\n",
       "      <td>b'@TeamPelosi 6) President Trump acting in \\xe...</td>\n",
       "      <td>User(_api=&lt;tweepy.api.API object at 0x10c9aab9...</td>\n",
       "      <td>{'hashtags': [], 'symbols': [], 'user_mentions...</td>\n",
       "    </tr>\n",
       "    <tr>\n",
       "      <th>457849</th>\n",
       "      <td>2020-10-09 19:59:40</td>\n",
       "      <td>1314656796905295872</td>\n",
       "      <td>b'RT @MeidasTouch: \\xf0\\x9f\\x93\\xba NEW VIDEO\\...</td>\n",
       "      <td>User(_api=&lt;tweepy.api.API object at 0x10c9aab9...</td>\n",
       "      <td>{'hashtags': [{'text': 'TrumpVirus', 'indices'...</td>\n",
       "    </tr>\n",
       "    <tr>\n",
       "      <th>457850</th>\n",
       "      <td>2020-10-09 19:59:40</td>\n",
       "      <td>1314656796871720966</td>\n",
       "      <td>b'RT @MandyStefanian: The U.S. needs to step i...</td>\n",
       "      <td>User(_api=&lt;tweepy.api.API object at 0x10c9aab9...</td>\n",
       "      <td>{'hashtags': [], 'symbols': [], 'user_mentions...</td>\n",
       "    </tr>\n",
       "    <tr>\n",
       "      <th>457851</th>\n",
       "      <td>2020-10-09 19:59:40</td>\n",
       "      <td>1314656796754276353</td>\n",
       "      <td>b'RT @causekryssaidso: YALL so APPARENTLY my s...</td>\n",
       "      <td>User(_api=&lt;tweepy.api.API object at 0x10c9aab9...</td>\n",
       "      <td>{'hashtags': [], 'symbols': [], 'user_mentions...</td>\n",
       "    </tr>\n",
       "    <tr>\n",
       "      <th>457852</th>\n",
       "      <td>2020-10-09 19:59:40</td>\n",
       "      <td>1314656796712284162</td>\n",
       "      <td>b\"Trump: Pence's best debate answer was balkin...</td>\n",
       "      <td>User(_api=&lt;tweepy.api.API object at 0x10c9aab9...</td>\n",
       "      <td>{'hashtags': [], 'symbols': [], 'user_mentions...</td>\n",
       "    </tr>\n",
       "    <tr>\n",
       "      <th>...</th>\n",
       "      <td>...</td>\n",
       "      <td>...</td>\n",
       "      <td>...</td>\n",
       "      <td>...</td>\n",
       "      <td>...</td>\n",
       "    </tr>\n",
       "    <tr>\n",
       "      <th>458043</th>\n",
       "      <td>2020-10-09 19:59:38</td>\n",
       "      <td>1314656788881440769</td>\n",
       "      <td>b'RT @RAICESTEXAS: The Trump administration en...</td>\n",
       "      <td>User(_api=&lt;tweepy.api.API object at 0x10c9aab9...</td>\n",
       "      <td>{'hashtags': [], 'symbols': [], 'user_mentions...</td>\n",
       "    </tr>\n",
       "    <tr>\n",
       "      <th>458044</th>\n",
       "      <td>2020-10-09 19:59:38</td>\n",
       "      <td>1314656788877381632</td>\n",
       "      <td>b'RT @RudyGiuliani: Joe Biden: \"You\\xe2\\x80\\x9...</td>\n",
       "      <td>User(_api=&lt;tweepy.api.API object at 0x10c9aab9...</td>\n",
       "      <td>{'hashtags': [], 'symbols': [], 'user_mentions...</td>\n",
       "    </tr>\n",
       "    <tr>\n",
       "      <th>458045</th>\n",
       "      <td>2020-10-09 19:59:38</td>\n",
       "      <td>1314656788877377536</td>\n",
       "      <td>b'@mlow29 No idea, but the hope was by the end...</td>\n",
       "      <td>User(_api=&lt;tweepy.api.API object at 0x10c9aab9...</td>\n",
       "      <td>{'hashtags': [], 'symbols': [], 'user_mentions...</td>\n",
       "    </tr>\n",
       "    <tr>\n",
       "      <th>458046</th>\n",
       "      <td>2020-10-09 19:59:38</td>\n",
       "      <td>1314656788856352768</td>\n",
       "      <td>b'RT @AdamWollner: The Biden campaign is curre...</td>\n",
       "      <td>User(_api=&lt;tweepy.api.API object at 0x10c9aab9...</td>\n",
       "      <td>{'hashtags': [], 'symbols': [], 'user_mentions...</td>\n",
       "    </tr>\n",
       "    <tr>\n",
       "      <th>458047</th>\n",
       "      <td>2020-10-09 19:59:38</td>\n",
       "      <td>1314656788839620611</td>\n",
       "      <td>b\"@ProjectLincoln Has anyone checked Trump's a...</td>\n",
       "      <td>User(_api=&lt;tweepy.api.API object at 0x10c9aab9...</td>\n",
       "      <td>{'hashtags': [], 'symbols': [], 'user_mentions...</td>\n",
       "    </tr>\n",
       "  </tbody>\n",
       "</table>\n",
       "<p>200 rows × 5 columns</p>\n",
       "</div>"
      ],
      "text/plain": [
       "                       Date                   id  \\\n",
       "457848  2020-10-09 19:59:40  1314656796934639624   \n",
       "457849  2020-10-09 19:59:40  1314656796905295872   \n",
       "457850  2020-10-09 19:59:40  1314656796871720966   \n",
       "457851  2020-10-09 19:59:40  1314656796754276353   \n",
       "457852  2020-10-09 19:59:40  1314656796712284162   \n",
       "...                     ...                  ...   \n",
       "458043  2020-10-09 19:59:38  1314656788881440769   \n",
       "458044  2020-10-09 19:59:38  1314656788877381632   \n",
       "458045  2020-10-09 19:59:38  1314656788877377536   \n",
       "458046  2020-10-09 19:59:38  1314656788856352768   \n",
       "458047  2020-10-09 19:59:38  1314656788839620611   \n",
       "\n",
       "                                                    tweet  \\\n",
       "457848  b'@TeamPelosi 6) President Trump acting in \\xe...   \n",
       "457849  b'RT @MeidasTouch: \\xf0\\x9f\\x93\\xba NEW VIDEO\\...   \n",
       "457850  b'RT @MandyStefanian: The U.S. needs to step i...   \n",
       "457851  b'RT @causekryssaidso: YALL so APPARENTLY my s...   \n",
       "457852  b\"Trump: Pence's best debate answer was balkin...   \n",
       "...                                                   ...   \n",
       "458043  b'RT @RAICESTEXAS: The Trump administration en...   \n",
       "458044  b'RT @RudyGiuliani: Joe Biden: \"You\\xe2\\x80\\x9...   \n",
       "458045  b'@mlow29 No idea, but the hope was by the end...   \n",
       "458046  b'RT @AdamWollner: The Biden campaign is curre...   \n",
       "458047  b\"@ProjectLincoln Has anyone checked Trump's a...   \n",
       "\n",
       "                                               tweet_info  \\\n",
       "457848  User(_api=<tweepy.api.API object at 0x10c9aab9...   \n",
       "457849  User(_api=<tweepy.api.API object at 0x10c9aab9...   \n",
       "457850  User(_api=<tweepy.api.API object at 0x10c9aab9...   \n",
       "457851  User(_api=<tweepy.api.API object at 0x10c9aab9...   \n",
       "457852  User(_api=<tweepy.api.API object at 0x10c9aab9...   \n",
       "...                                                   ...   \n",
       "458043  User(_api=<tweepy.api.API object at 0x10c9aab9...   \n",
       "458044  User(_api=<tweepy.api.API object at 0x10c9aab9...   \n",
       "458045  User(_api=<tweepy.api.API object at 0x10c9aab9...   \n",
       "458046  User(_api=<tweepy.api.API object at 0x10c9aab9...   \n",
       "458047  User(_api=<tweepy.api.API object at 0x10c9aab9...   \n",
       "\n",
       "                                                 metadata  \n",
       "457848  {'hashtags': [], 'symbols': [], 'user_mentions...  \n",
       "457849  {'hashtags': [{'text': 'TrumpVirus', 'indices'...  \n",
       "457850  {'hashtags': [], 'symbols': [], 'user_mentions...  \n",
       "457851  {'hashtags': [], 'symbols': [], 'user_mentions...  \n",
       "457852  {'hashtags': [], 'symbols': [], 'user_mentions...  \n",
       "...                                                   ...  \n",
       "458043  {'hashtags': [], 'symbols': [], 'user_mentions...  \n",
       "458044  {'hashtags': [], 'symbols': [], 'user_mentions...  \n",
       "458045  {'hashtags': [], 'symbols': [], 'user_mentions...  \n",
       "458046  {'hashtags': [], 'symbols': [], 'user_mentions...  \n",
       "458047  {'hashtags': [], 'symbols': [], 'user_mentions...  \n",
       "\n",
       "[200 rows x 5 columns]"
      ]
     },
     "execution_count": 7,
     "metadata": {},
     "output_type": "execute_result"
    }
   ],
   "source": [
    "tweet_dataset.tail(200)"
   ]
  },
  {
   "cell_type": "code",
   "execution_count": 8,
   "metadata": {},
   "outputs": [],
   "source": [
    "# Cleaning Up the tweets\n",
    "\n",
    "searched_tweets = []\n",
    "\n",
    "for i in range(0,int(tweet_dataset.shape[0])):\n",
    "    try:\n",
    "        if tweet_dataset['tweet'][i] != None: \n",
    "            tweet = re.sub('[^a-zA-Z0-9]', ' ', str(tweet_dataset['tweet'][i]))\n",
    "            tweet = re.sub(\"b'\", '', tweet)\n",
    "            tweet = re.sub('https', '', tweet)\n",
    "            tweet = tweet.split()\n",
    "            for j in range(len(tweet)):\n",
    "                if len(tweet[j]) <= 3:\n",
    "                    tweet[j] = ''\n",
    "                elif (len(tweet[j]) == 4) and (tweet[j][0]=='x'):\n",
    "                    tweet[j] = ''\n",
    "                elif (len(tweet[j]) == 5) and (tweet[j][0]=='x'):\n",
    "                    tweet[j] = ''\n",
    "            tweet = ' '.join(tweet)\n",
    "            searched_tweets.append(tweet)\n",
    "    except:\n",
    "        continue"
   ]
  },
  {
   "cell_type": "code",
   "execution_count": 9,
   "metadata": {},
   "outputs": [
    {
     "name": "stdout",
     "output_type": "stream",
     "text": [
      "458048\n"
     ]
    }
   ],
   "source": [
    "print(len(searched_tweets))"
   ]
  },
  {
   "cell_type": "code",
   "execution_count": 10,
   "metadata": {},
   "outputs": [
    {
     "name": "stdout",
     "output_type": "stream",
     "text": [
      "Total Positive =  152368\n",
      "Total Negative =  86197\n",
      "Total Neutral =  219483\n"
     ]
    }
   ],
   "source": [
    "#Sentiment Analysis Report of all the tweets from november with hashtags related to the elections\n",
    "\n",
    "#Finding sentiment analysis (+ve, -ve and neutral)\n",
    "pos = 0\n",
    "neg = 0\n",
    "neu = 0\n",
    "for tweet in searched_tweets:\n",
    "    try:\n",
    "        analysis = TextBlob(tweet)\n",
    "        if analysis.sentiment[0]>0:\n",
    "           pos = pos +1\n",
    "        elif analysis.sentiment[0]<0:\n",
    "           neg = neg + 1\n",
    "        else:\n",
    "           neu = neu + 1\n",
    "    except:\n",
    "        continue\n",
    "print(\"Total Positive = \", pos)\n",
    "print(\"Total Negative = \", neg)\n",
    "print(\"Total Neutral = \", neu)"
   ]
  },
  {
   "cell_type": "code",
   "execution_count": 11,
   "metadata": {},
   "outputs": [
    {
     "data": {
      "image/png": "[encoded data removed]",
      "text/plain": [
       "<Figure size 432x288 with 1 Axes>"
      ]
     },
     "metadata": {},
     "output_type": "display_data"
    }
   ],
   "source": [
    "#Plotting sentiments\n",
    "labels = 'Positive', 'Negative', 'Neutral'\n",
    "sizes = [pos, neg, neu]\n",
    "colors = ['gold', 'yellowgreen', 'lightcoral']\n",
    "explode = (0.1, 0.1, 0)  # explode 1st slice\n",
    "plt.pie(sizes, explode=explode, labels=labels, colors=colors, autopct='%1.1f%%', shadow=True, startangle=140)\n",
    "plt.axis('equal')\n",
    "plt.show()"
   ]
  },
  {
   "cell_type": "code",
   "execution_count": null,
   "metadata": {},
   "outputs": [],
   "source": []
  }
 ],
 "metadata": {
  "kernelspec": {
   "display_name": "Python 3",
   "language": "python",
   "name": "python3"
  },
  "language_info": {
   "codemirror_mode": {
    "name": "ipython",
    "version": 3
   },
   "file_extension": ".py",
   "mimetype": "text/x-python",
   "name": "python",
   "nbconvert_exporter": "python",
   "pygments_lexer": "ipython3",
   "version": "3.8.5"
  }
 },
 "nbformat": 4,
 "nbformat_minor": 4
}
