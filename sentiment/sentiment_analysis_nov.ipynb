{
 "cells": [
  {
   "cell_type": "code",
   "execution_count": 34,
   "metadata": {},
   "outputs": [
    {
     "data": {
      "text/plain": [
       "'Sentiment of the tweets from November regarding the 2020 elections'"
      ]
     },
     "execution_count": 34,
     "metadata": {},
     "output_type": "execute_result"
    }
   ],
   "source": [
    "'''Sentiment of the tweets from November regarding the 2020 elections'''"
   ]
  },
  {
   "cell_type": "code",
   "execution_count": 2,
   "metadata": {},
   "outputs": [],
   "source": [
    "import sys\n",
    "import os\n",
    "from textblob import TextBlob\n",
    "import pandas as pd\n",
    "import numpy as np\n",
    "import matplotlib.pyplot as plt\n",
    "import re\n",
    "import nltk\n",
    "import glob\n",
    "import json\n"
   ]
  },
  {
   "cell_type": "code",
   "execution_count": 117,
   "metadata": {},
   "outputs": [],
   "source": [
    "path = r'C:\\Users\\m216126\\Documents\\capstoneStuff\\twitterCapture\\captures\\november'      # use your path\n",
    "all_files = glob.glob(os.path.join(path, \"*.csv\"))     # advisable to use os.path.join as this makes concatenation OS independent\n",
    "li = []\n",
    "for file in all_files:\n",
    "    df = pd.read_csv(file, index_col = None, header=0)\n",
    "    li.append(df)"
   ]
  },
  {
   "cell_type": "code",
   "execution_count": 120,
   "metadata": {},
   "outputs": [],
   "source": [
    "# Naming the columns\n",
    "\n",
    "for i in range(len(li)):\n",
    "    li[i].columns = ['Date','id','tweet','tweet_info','metadata']"
   ]
  },
  {
   "cell_type": "code",
   "execution_count": 121,
   "metadata": {},
   "outputs": [],
   "source": [
    "## Concatenate all the files into a single dataset\n",
    "\n",
    "frames = []\n",
    "\n",
    "for i in range(len(li)):\n",
    "    frames.append(li[i])\n",
    "tweet_dataset = pd.concat(frames, ignore_index=True)"
   ]
  },
  {
   "cell_type": "code",
   "execution_count": 122,
   "metadata": {},
   "outputs": [
    {
     "data": {
      "text/plain": [
       "(184498, 5)"
      ]
     },
     "execution_count": 122,
     "metadata": {},
     "output_type": "execute_result"
    }
   ],
   "source": [
    "tweet_dataset.shape "
   ]
  },
  {
   "cell_type": "code",
   "execution_count": 123,
   "metadata": {},
   "outputs": [
    {
     "data": {
      "text/html": [
       "<div>\n",
       "<style scoped>\n",
       "    .dataframe tbody tr th:only-of-type {\n",
       "        vertical-align: middle;\n",
       "    }\n",
       "\n",
       "    .dataframe tbody tr th {\n",
       "        vertical-align: top;\n",
       "    }\n",
       "\n",
       "    .dataframe thead th {\n",
       "        text-align: right;\n",
       "    }\n",
       "</style>\n",
       "<table border=\"1\" class=\"dataframe\">\n",
       "  <thead>\n",
       "    <tr style=\"text-align: right;\">\n",
       "      <th></th>\n",
       "      <th>Date</th>\n",
       "      <th>id</th>\n",
       "      <th>tweet</th>\n",
       "      <th>tweet_info</th>\n",
       "      <th>metadata</th>\n",
       "    </tr>\n",
       "  </thead>\n",
       "  <tbody>\n",
       "    <tr>\n",
       "      <th>184298</th>\n",
       "      <td>2020-11-09 20:59:51</td>\n",
       "      <td>1325905969486974978</td>\n",
       "      <td>b'RT @cbozy: Wait, so Trump passed a bill in 2...</td>\n",
       "      <td>User(_api=&lt;tweepy.api.API object at 0x10daebb1...</td>\n",
       "      <td>{'hashtags': [], 'symbols': [], 'user_mentions...</td>\n",
       "    </tr>\n",
       "    <tr>\n",
       "      <th>184299</th>\n",
       "      <td>2020-11-09 20:59:51</td>\n",
       "      <td>1325905969474199552</td>\n",
       "      <td>b\"RT @costareports: Based on my convos with Rs...</td>\n",
       "      <td>User(_api=&lt;tweepy.api.API object at 0x10daebb1...</td>\n",
       "      <td>{'hashtags': [], 'symbols': [], 'user_mentions...</td>\n",
       "    </tr>\n",
       "    <tr>\n",
       "      <th>184300</th>\n",
       "      <td>2020-11-09 20:59:51</td>\n",
       "      <td>1325905969470087170</td>\n",
       "      <td>b'RT @gigglygukk: \"please love me\"\\n\\nreply + ...</td>\n",
       "      <td>User(_api=&lt;tweepy.api.API object at 0x10daebb1...</td>\n",
       "      <td>{'hashtags': [{'text': 'JUNGKOOK', 'indices': ...</td>\n",
       "    </tr>\n",
       "    <tr>\n",
       "      <th>184301</th>\n",
       "      <td>2020-11-09 20:59:51</td>\n",
       "      <td>1325905969461735425</td>\n",
       "      <td>b'RT @nhbaptiste: Biden: I will work with Repu...</td>\n",
       "      <td>User(_api=&lt;tweepy.api.API object at 0x10daebb1...</td>\n",
       "      <td>{'hashtags': [], 'symbols': [], 'user_mentions...</td>\n",
       "    </tr>\n",
       "    <tr>\n",
       "      <th>184302</th>\n",
       "      <td>2020-11-09 20:59:51</td>\n",
       "      <td>1325905969453428736</td>\n",
       "      <td>b\"RT @ElieNYC: Basically everybody is trying t...</td>\n",
       "      <td>User(_api=&lt;tweepy.api.API object at 0x10daebb1...</td>\n",
       "      <td>{'hashtags': [], 'symbols': [], 'user_mentions...</td>\n",
       "    </tr>\n",
       "    <tr>\n",
       "      <th>...</th>\n",
       "      <td>...</td>\n",
       "      <td>...</td>\n",
       "      <td>...</td>\n",
       "      <td>...</td>\n",
       "      <td>...</td>\n",
       "    </tr>\n",
       "    <tr>\n",
       "      <th>184493</th>\n",
       "      <td>2020-11-09 20:59:50</td>\n",
       "      <td>1325905965485608961</td>\n",
       "      <td>b'RT @AlexandraChalup: Americans can rest well...</td>\n",
       "      <td>User(_api=&lt;tweepy.api.API object at 0x10daebb1...</td>\n",
       "      <td>{'hashtags': [], 'symbols': [], 'user_mentions...</td>\n",
       "    </tr>\n",
       "    <tr>\n",
       "      <th>184494</th>\n",
       "      <td>2020-11-09 20:59:50</td>\n",
       "      <td>1325905965435203585</td>\n",
       "      <td>b'RT @realDonaldTrump: Georgia will be a big p...</td>\n",
       "      <td>User(_api=&lt;tweepy.api.API object at 0x10daebb1...</td>\n",
       "      <td>{'hashtags': [], 'symbols': [], 'user_mentions...</td>\n",
       "    </tr>\n",
       "    <tr>\n",
       "      <th>184495</th>\n",
       "      <td>2020-11-09 20:59:50</td>\n",
       "      <td>1325905965426872321</td>\n",
       "      <td>b'RT @pauloeneas: Kennedy Alencar: \"Bolsonaro ...</td>\n",
       "      <td>User(_api=&lt;tweepy.api.API object at 0x10daebb1...</td>\n",
       "      <td>{'hashtags': [], 'symbols': [], 'user_mentions...</td>\n",
       "    </tr>\n",
       "    <tr>\n",
       "      <th>184496</th>\n",
       "      <td>2020-11-09 20:59:50</td>\n",
       "      <td>1325905965422534656</td>\n",
       "      <td>b\"RT @Vbretired: @realDonaldTrump I'm glad to ...</td>\n",
       "      <td>User(_api=&lt;tweepy.api.API object at 0x10daebb1...</td>\n",
       "      <td>{'hashtags': [], 'symbols': [], 'user_mentions...</td>\n",
       "    </tr>\n",
       "    <tr>\n",
       "      <th>184497</th>\n",
       "      <td>2020-11-09 20:59:50</td>\n",
       "      <td>1325905965351378950</td>\n",
       "      <td>b'@thehill A graduate of Rice University with ...</td>\n",
       "      <td>User(_api=&lt;tweepy.api.API object at 0x10daebb1...</td>\n",
       "      <td>{'hashtags': [], 'symbols': [], 'user_mentions...</td>\n",
       "    </tr>\n",
       "  </tbody>\n",
       "</table>\n",
       "<p>200 rows × 5 columns</p>\n",
       "</div>"
      ],
      "text/plain": [
       "                       Date                   id  \\\n",
       "184298  2020-11-09 20:59:51  1325905969486974978   \n",
       "184299  2020-11-09 20:59:51  1325905969474199552   \n",
       "184300  2020-11-09 20:59:51  1325905969470087170   \n",
       "184301  2020-11-09 20:59:51  1325905969461735425   \n",
       "184302  2020-11-09 20:59:51  1325905969453428736   \n",
       "...                     ...                  ...   \n",
       "184493  2020-11-09 20:59:50  1325905965485608961   \n",
       "184494  2020-11-09 20:59:50  1325905965435203585   \n",
       "184495  2020-11-09 20:59:50  1325905965426872321   \n",
       "184496  2020-11-09 20:59:50  1325905965422534656   \n",
       "184497  2020-11-09 20:59:50  1325905965351378950   \n",
       "\n",
       "                                                    tweet  \\\n",
       "184298  b'RT @cbozy: Wait, so Trump passed a bill in 2...   \n",
       "184299  b\"RT @costareports: Based on my convos with Rs...   \n",
       "184300  b'RT @gigglygukk: \"please love me\"\\n\\nreply + ...   \n",
       "184301  b'RT @nhbaptiste: Biden: I will work with Repu...   \n",
       "184302  b\"RT @ElieNYC: Basically everybody is trying t...   \n",
       "...                                                   ...   \n",
       "184493  b'RT @AlexandraChalup: Americans can rest well...   \n",
       "184494  b'RT @realDonaldTrump: Georgia will be a big p...   \n",
       "184495  b'RT @pauloeneas: Kennedy Alencar: \"Bolsonaro ...   \n",
       "184496  b\"RT @Vbretired: @realDonaldTrump I'm glad to ...   \n",
       "184497  b'@thehill A graduate of Rice University with ...   \n",
       "\n",
       "                                               tweet_info  \\\n",
       "184298  User(_api=<tweepy.api.API object at 0x10daebb1...   \n",
       "184299  User(_api=<tweepy.api.API object at 0x10daebb1...   \n",
       "184300  User(_api=<tweepy.api.API object at 0x10daebb1...   \n",
       "184301  User(_api=<tweepy.api.API object at 0x10daebb1...   \n",
       "184302  User(_api=<tweepy.api.API object at 0x10daebb1...   \n",
       "...                                                   ...   \n",
       "184493  User(_api=<tweepy.api.API object at 0x10daebb1...   \n",
       "184494  User(_api=<tweepy.api.API object at 0x10daebb1...   \n",
       "184495  User(_api=<tweepy.api.API object at 0x10daebb1...   \n",
       "184496  User(_api=<tweepy.api.API object at 0x10daebb1...   \n",
       "184497  User(_api=<tweepy.api.API object at 0x10daebb1...   \n",
       "\n",
       "                                                 metadata  \n",
       "184298  {'hashtags': [], 'symbols': [], 'user_mentions...  \n",
       "184299  {'hashtags': [], 'symbols': [], 'user_mentions...  \n",
       "184300  {'hashtags': [{'text': 'JUNGKOOK', 'indices': ...  \n",
       "184301  {'hashtags': [], 'symbols': [], 'user_mentions...  \n",
       "184302  {'hashtags': [], 'symbols': [], 'user_mentions...  \n",
       "...                                                   ...  \n",
       "184493  {'hashtags': [], 'symbols': [], 'user_mentions...  \n",
       "184494  {'hashtags': [], 'symbols': [], 'user_mentions...  \n",
       "184495  {'hashtags': [], 'symbols': [], 'user_mentions...  \n",
       "184496  {'hashtags': [], 'symbols': [], 'user_mentions...  \n",
       "184497  {'hashtags': [], 'symbols': [], 'user_mentions...  \n",
       "\n",
       "[200 rows x 5 columns]"
      ]
     },
     "execution_count": 123,
     "metadata": {},
     "output_type": "execute_result"
    }
   ],
   "source": [
    "tweet_dataset.tail(200)"
   ]
  },
  {
   "cell_type": "code",
   "execution_count": 124,
   "metadata": {},
   "outputs": [],
   "source": [
    "# Cleaning Up the tweets\n",
    "\n",
    "searched_tweets = []\n",
    "\n",
    "for i in range(0,int(tweet_dataset.shape[0])):\n",
    "    try:\n",
    "        if tweet_dataset['tweet'][i] != None: \n",
    "            tweet = re.sub('[^a-zA-Z0-9]', ' ', str(tweet_dataset['tweet'][i]))\n",
    "            tweet = re.sub(\"b'\", '', tweet)\n",
    "            tweet = re.sub('https', '', tweet)\n",
    "            tweet = tweet.split()\n",
    "            for j in range(len(tweet)):\n",
    "                if len(tweet[j]) <= 3:\n",
    "                    tweet[j] = ''\n",
    "                elif (len(tweet[j]) == 4) and (tweet[j][0]=='x'):\n",
    "                    tweet[j] = ''\n",
    "                elif (len(tweet[j]) == 5) and (tweet[j][0]=='x'):\n",
    "                    tweet[j] = ''\n",
    "            tweet = ' '.join(tweet)\n",
    "            searched_tweets.append(tweet)\n",
    "    except:\n",
    "        continue"
   ]
  },
  {
   "cell_type": "code",
   "execution_count": 125,
   "metadata": {},
   "outputs": [
    {
     "name": "stdout",
     "output_type": "stream",
     "text": [
      "184498\n"
     ]
    }
   ],
   "source": [
    "print(len(searched_tweets))"
   ]
  },
  {
   "cell_type": "code",
   "execution_count": 126,
   "metadata": {},
   "outputs": [
    {
     "name": "stdout",
     "output_type": "stream",
     "text": [
      "Total Positive =  63464\n",
      "Total Negative =  25440\n",
      "Total Neutral =  95594\n"
     ]
    }
   ],
   "source": [
    "#Sentiment Analysis Report of all the tweets from november with hashtags related to the elections\n",
    "\n",
    "#Finding sentiment analysis (+ve, -ve and neutral)\n",
    "pos = 0\n",
    "neg = 0\n",
    "neu = 0\n",
    "for tweet in searched_tweets:\n",
    "    try:\n",
    "        analysis = TextBlob(tweet)\n",
    "        if analysis.sentiment[0]>0:\n",
    "           pos = pos +1\n",
    "        elif analysis.sentiment[0]<0:\n",
    "           neg = neg + 1\n",
    "        else:\n",
    "           neu = neu + 1\n",
    "    except:\n",
    "        continue\n",
    "print(\"Total Positive = \", pos)\n",
    "print(\"Total Negative = \", neg)\n",
    "print(\"Total Neutral = \", neu)"
   ]
  },
  {
   "cell_type": "code",
   "execution_count": 127,
   "metadata": {},
   "outputs": [
    {
     "data": {
      "image/png": "[encoded data removed]",
      "text/plain": [
       "<Figure size 432x288 with 1 Axes>"
      ]
     },
     "metadata": {},
     "output_type": "display_data"
    }
   ],
   "source": [
    "#Plotting sentiments\n",
    "labels = 'Positive', 'Negative', 'Neutral'\n",
    "sizes = [pos, neg, neu]\n",
    "colors = ['gold', 'yellowgreen', 'lightcoral']\n",
    "explode = (0.1, 0.1, 0)  # explode 1st slice\n",
    "plt.pie(sizes, explode=explode, labels=labels, colors=colors, autopct='%1.1f%%', shadow=True, startangle=140)\n",
    "plt.axis('equal')\n",
    "plt.show()"
   ]
  },
  {
   "cell_type": "code",
   "execution_count": null,
   "metadata": {},
   "outputs": [],
   "source": []
  }
 ],
 "metadata": {
  "kernelspec": {
   "display_name": "Python 3",
   "language": "python",
   "name": "python3"
  },
  "language_info": {
   "codemirror_mode": {
    "name": "ipython",
    "version": 3
   },
   "file_extension": ".py",
   "mimetype": "text/x-python",
   "name": "python",
   "nbconvert_exporter": "python",
   "pygments_lexer": "ipython3",
   "version": "3.8.5"
  }
 },
 "nbformat": 4,
 "nbformat_minor": 4
}
