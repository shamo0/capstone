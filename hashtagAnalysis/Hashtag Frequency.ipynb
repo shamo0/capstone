{
 "cells": [
  {
   "cell_type": "code",
   "execution_count": 34,
   "metadata": {},
   "outputs": [],
   "source": [
    "import sys\n",
    "import os\n",
    "import pandas as pd\n",
    "import numpy as np\n",
    "import matplotlib.pyplot as plt\n",
    "import re\n",
    "import nltk\n",
    "import glob\n",
    "from wordcloud import WordCloud\n",
    "import json\n",
    "from collections import Counter\n",
    "import seaborn as sns"
   ]
  },
  {
   "cell_type": "code",
   "execution_count": 35,
   "metadata": {},
   "outputs": [],
   "source": [
    "path = r'C:\\Users\\m216102\\Documents\\Capstone\\twitterCapture\\january'   \n",
    "all_files = glob.glob(os.path.join(path, \"*.csv\"))     # advisable to use os.path.join as this makes concatenation OS independent\n",
    "li = []\n",
    "for file in all_files:\n",
    "    df = pd.read_csv(file, index_col = None, header=0)   #list of data frames\n",
    "    li.append(df)"
   ]
  },
  {
   "cell_type": "code",
   "execution_count": 36,
   "metadata": {},
   "outputs": [],
   "source": [
    "#name the columns\n",
    "for i in range(len(li)): \n",
    "    li[i].columns = ['Date', 'id', 'tweet', 'tweet_info', 'metadata']\n"
   ]
  },
  {
   "cell_type": "code",
   "execution_count": 37,
   "metadata": {},
   "outputs": [],
   "source": [
    "frames = []\n",
    "#Concatenate all files into one dataset \n",
    "for i in range(len(li)): \n",
    "    frames.append(li[i])\n",
    "data = pd.concat(frames, ignore_index= True)"
   ]
  },
  {
   "cell_type": "code",
   "execution_count": 38,
   "metadata": {},
   "outputs": [
    {
     "data": {
      "text/plain": [
       "(118367, 2)"
      ]
     },
     "execution_count": 38,
     "metadata": {},
     "output_type": "execute_result"
    }
   ],
   "source": [
    "data.drop(['Date'], inplace=True, axis=1) \n",
    "data.drop(['tweet_info'], inplace=True, axis=1)\n",
    "data.drop(['metadata'], inplace=True, axis=1)\n",
    "data.shape"
   ]
  },
  {
   "cell_type": "code",
   "execution_count": 48,
   "metadata": {},
   "outputs": [
    {
     "data": {
      "text/html": [
       "<div>\n",
       "<style scoped>\n",
       "    .dataframe tbody tr th:only-of-type {\n",
       "        vertical-align: middle;\n",
       "    }\n",
       "\n",
       "    .dataframe tbody tr th {\n",
       "        vertical-align: top;\n",
       "    }\n",
       "\n",
       "    .dataframe thead th {\n",
       "        text-align: right;\n",
       "    }\n",
       "</style>\n",
       "<table border=\"1\" class=\"dataframe\">\n",
       "  <thead>\n",
       "    <tr style=\"text-align: right;\">\n",
       "      <th></th>\n",
       "      <th>id</th>\n",
       "      <th>tweet</th>\n",
       "    </tr>\n",
       "  </thead>\n",
       "  <tbody>\n",
       "    <tr>\n",
       "      <th>0</th>\n",
       "      <td>1348132465689337860</td>\n",
       "      <td>b'RT @chelseahandler: Congrats to Twitter for ...</td>\n",
       "    </tr>\n",
       "    <tr>\n",
       "      <th>1</th>\n",
       "      <td>1348132465613922306</td>\n",
       "      <td>b\"RT @TimRunsHisMouth: What are the odds that ...</td>\n",
       "    </tr>\n",
       "    <tr>\n",
       "      <th>2</th>\n",
       "      <td>1348132465580322817</td>\n",
       "      <td>b'RT @Univers_Bangtan: \\xf0\\x9f\\x93\\xa5 ARMYS ...</td>\n",
       "    </tr>\n",
       "    <tr>\n",
       "      <th>3</th>\n",
       "      <td>1348132465525706756</td>\n",
       "      <td>b'RT @nowthisnews: \\xe2\\x80\\x98I wanted to kno...</td>\n",
       "    </tr>\n",
       "    <tr>\n",
       "      <th>4</th>\n",
       "      <td>1348132465483730946</td>\n",
       "      <td>b'RT @btsvotingorg: K-ARMYs mass voting hashta...</td>\n",
       "    </tr>\n",
       "  </tbody>\n",
       "</table>\n",
       "</div>"
      ],
      "text/plain": [
       "                    id                                              tweet\n",
       "0  1348132465689337860  b'RT @chelseahandler: Congrats to Twitter for ...\n",
       "1  1348132465613922306  b\"RT @TimRunsHisMouth: What are the odds that ...\n",
       "2  1348132465580322817  b'RT @Univers_Bangtan: \\xf0\\x9f\\x93\\xa5 ARMYS ...\n",
       "3  1348132465525706756  b'RT @nowthisnews: \\xe2\\x80\\x98I wanted to kno...\n",
       "4  1348132465483730946  b'RT @btsvotingorg: K-ARMYs mass voting hashta..."
      ]
     },
     "execution_count": 48,
     "metadata": {},
     "output_type": "execute_result"
    }
   ],
   "source": [
    "data.head()"
   ]
  },
  {
   "cell_type": "code",
   "execution_count": 56,
   "metadata": {},
   "outputs": [],
   "source": [
    "#function to collect hashtags \n",
    "def HashTags(x): \n",
    "    hashtags = []\n",
    "    #Loop over the words in the tweet\n",
    "    for i in x: \n",
    "        ht = re.findall(r\"#(\\w+)\", i)\n",
    "        hashtags.append(ht)\n",
    "    return hashtags "
   ]
  },
  {
   "cell_type": "code",
   "execution_count": 57,
   "metadata": {
    "scrolled": true
   },
   "outputs": [
    {
     "data": {
      "text/plain": [
       "<bound method NDFrame.tail of                    HashTags  Values\n",
       "0                      SB19      15\n",
       "1     EffectiveMultilateral      16\n",
       "2              AmericaFirst      30\n",
       "3                         7       6\n",
       "4                 TrumpCult       3\n",
       "...                     ...     ...\n",
       "4078       CapitolHillSiege       1\n",
       "4079             TrumpTapes       1\n",
       "4080      RemoveCountryCaps       1\n",
       "4081          117thCongress       1\n",
       "4082             UnitedStat       1\n",
       "\n",
       "[4083 rows x 2 columns]>"
      ]
     },
     "execution_count": 57,
     "metadata": {},
     "output_type": "execute_result"
    }
   ],
   "source": [
    "tags = HashTags(data['tweet'])\n",
    "freq = nltk.FreqDist(sum(tags, [])) \n",
    "hashtags = pd.DataFrame({'HashTags' : list(freq.keys()),'Values' : list(freq.values())})\n",
    "hashtags.tail"
   ]
  },
  {
   "cell_type": "code",
   "execution_count": 58,
   "metadata": {},
   "outputs": [
    {
     "data": {
      "text/plain": [
       "<AxesSubplot:xlabel='HashTags', ylabel='Values'>"
      ]
     },
     "execution_count": 58,
     "metadata": {},
     "output_type": "execute_result"
    },
    {
     "data": {
      "image/png": "[encoded data removed]",
      "text/plain": [
       "<Figure size 2160x576 with 1 Axes>"
      ]
     },
     "metadata": {
      "needs_background": "light"
     },
     "output_type": "display_data"
    }
   ],
   "source": [
    "# selecting top 20 most frequent hashtags\n",
    "hashtags = hashtags.nlargest(columns=\"Values\", n=20)\n",
    "plt.figure(figsize=(30,8))\n",
    "sns.barplot(data=hashtags, x= \"HashTags\", y= \"Values\")"
   ]
  },
  {
   "cell_type": "code",
   "execution_count": null,
   "metadata": {},
   "outputs": [],
   "source": []
  }
 ],
 "metadata": {
  "kernelspec": {
   "display_name": "Python 3",
   "language": "python",
   "name": "python3"
  },
  "language_info": {
   "codemirror_mode": {
    "name": "ipython",
    "version": 3
   },
   "file_extension": ".py",
   "mimetype": "text/x-python",
   "name": "python",
   "nbconvert_exporter": "python",
   "pygments_lexer": "ipython3",
   "version": "3.8.5"
  }
 },
 "nbformat": 4,
 "nbformat_minor": 4
}
